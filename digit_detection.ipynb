{
 "cells": [
  {
   "cell_type": "code",
   "execution_count": 25,
   "outputs": [
    {
     "name": "stdout",
     "output_type": "stream",
     "text": [
      "Using pip 21.1.2 from d:\\projects\\put\\computer-vision-project-2\\venv\\lib\\site-packages\\pip (python 3.7)\n",
      "Non-user install because user site-packages disabled\n",
      "Created temporary directory: C:\\Users\\aszcz\\AppData\\Local\\Temp\\pip-ephem-wheel-cache-8n_5d8b4\n",
      "Created temporary directory: C:\\Users\\aszcz\\AppData\\Local\\Temp\\pip-req-tracker-on1k0dse\n",
      "Initialized build tracking at C:\\Users\\aszcz\\AppData\\Local\\Temp\\pip-req-tracker-on1k0dse\n",
      "Created build tracker: C:\\Users\\aszcz\\AppData\\Local\\Temp\\pip-req-tracker-on1k0dse\n",
      "Entered build tracker: C:\\Users\\aszcz\\AppData\\Local\\Temp\\pip-req-tracker-on1k0dse\n",
      "Created temporary directory: C:\\Users\\aszcz\\AppData\\Local\\Temp\\pip-install-bn5n8bl7\n",
      "Requirement already satisfied: opencv-python==4.5.1.48 in d:\\projects\\put\\computer-vision-project-2\\venv\\lib\\site-packages (4.5.1.48)\n",
      "Requirement already satisfied: numpy>=1.14.5 in d:\\projects\\put\\computer-vision-project-2\\venv\\lib\\site-packages (from opencv-python==4.5.1.48) (1.20.3)\n",
      "Created temporary directory: C:\\Users\\aszcz\\AppData\\Local\\Temp\\pip-unpack-hb5l3g3t\n",
      "Removed build tracker: 'C:\\\\Users\\\\aszcz\\\\AppData\\\\Local\\\\Temp\\\\pip-req-tracker-on1k0dse'\n",
      "Requirement already satisfied: matplotlib in d:\\projects\\put\\computer-vision-project-2\\venv\\lib\\site-packages (3.4.2)\n",
      "Requirement already satisfied: pyparsing>=2.2.1 in d:\\projects\\put\\computer-vision-project-2\\venv\\lib\\site-packages (from matplotlib) (2.4.7)\n",
      "Requirement already satisfied: pillow>=6.2.0 in d:\\projects\\put\\computer-vision-project-2\\venv\\lib\\site-packages (from matplotlib) (8.2.0)\n",
      "Requirement already satisfied: python-dateutil>=2.7 in d:\\projects\\put\\computer-vision-project-2\\venv\\lib\\site-packages (from matplotlib) (2.8.1)\n",
      "Requirement already satisfied: numpy>=1.16 in d:\\projects\\put\\computer-vision-project-2\\venv\\lib\\site-packages (from matplotlib) (1.20.3)\n",
      "Requirement already satisfied: kiwisolver>=1.0.1 in d:\\projects\\put\\computer-vision-project-2\\venv\\lib\\site-packages (from matplotlib) (1.3.1)\n",
      "Requirement already satisfied: cycler>=0.10 in d:\\projects\\put\\computer-vision-project-2\\venv\\lib\\site-packages (from matplotlib) (0.10.0)\n",
      "Requirement already satisfied: six in d:\\projects\\put\\computer-vision-project-2\\venv\\lib\\site-packages (from cycler>=0.10->matplotlib) (1.16.0)\n",
      "Requirement already satisfied: sklearn in d:\\projects\\put\\computer-vision-project-2\\venv\\lib\\site-packages (0.0)\n",
      "Requirement already satisfied: scikit-learn in d:\\projects\\put\\computer-vision-project-2\\venv\\lib\\site-packages (from sklearn) (0.24.2)\n",
      "Requirement already satisfied: joblib>=0.11 in d:\\projects\\put\\computer-vision-project-2\\venv\\lib\\site-packages (from scikit-learn->sklearn) (1.0.1)\n",
      "Requirement already satisfied: threadpoolctl>=2.0.0 in d:\\projects\\put\\computer-vision-project-2\\venv\\lib\\site-packages (from scikit-learn->sklearn) (2.1.0)\n",
      "Requirement already satisfied: numpy>=1.13.3 in d:\\projects\\put\\computer-vision-project-2\\venv\\lib\\site-packages (from scikit-learn->sklearn) (1.20.3)\n",
      "Requirement already satisfied: scipy>=0.19.1 in d:\\projects\\put\\computer-vision-project-2\\venv\\lib\\site-packages (from scikit-learn->sklearn) (1.6.3)\n"
     ]
    }
   ],
   "source": [
    "import sys\n",
    "!{sys.executable} -m pip install -v \"opencv-python==4.5.1.48\"\n",
    "!{sys.executable} -m pip install matplotlib\n",
    "!{sys.executable} -m pip install sklearn\n"
   ],
   "metadata": {
    "collapsed": false,
    "pycharm": {
     "name": "#%%\n"
    }
   }
  },
  {
   "cell_type": "markdown",
   "source": [
    "Wczytywanie obrazu indeksu"
   ],
   "metadata": {
    "collapsed": false,
    "pycharm": {
     "name": "#%% md\n"
    }
   }
  },
  {
   "cell_type": "code",
   "execution_count": 26,
   "metadata": {
    "collapsed": true
   },
   "outputs": [],
   "source": [
    "import math\n",
    "import numpy as np\n",
    "import cv2\n",
    "from cv2 import imread, threshold, THRESH_BINARY_INV, imshow, waitKey\n",
    "from matplotlib import pyplot as plt\n",
    "\n",
    "img = imread(\"dupa-small.png\", cv2.IMREAD_GRAYSCALE)\n",
    "ret, bw = threshold(img, 127, 255, THRESH_BINARY_INV)\n",
    "\n",
    "im_height, im_width = bw.shape"
   ]
  },
  {
   "cell_type": "markdown",
   "source": [
    "Dzielenie indeksu na osobne obrazy-cyfry oraz przycinanie boków tych obrazów"
   ],
   "metadata": {
    "collapsed": false,
    "pycharm": {
     "name": "#%% md\n"
    }
   }
  },
  {
   "cell_type": "code",
   "execution_count": 27,
   "outputs": [],
   "source": [
    "digits = []\n",
    "col = 0\n",
    "while col < im_width:\n",
    "    if not all(px == 0 for px in bw[:, col]):\n",
    "\n",
    "        start_index = col\n",
    "        while col < im_width and not all(px == 0 for px in bw[:, col]):\n",
    "            col += 1\n",
    "\n",
    "        end_index = col - 1\n",
    "\n",
    "        digits.append(bw[0:im_height, start_index:end_index])\n",
    "    col += 1"
   ],
   "metadata": {
    "collapsed": false,
    "pycharm": {
     "name": "#%%\n"
    }
   }
  },
  {
   "cell_type": "markdown",
   "source": [
    "Przycinanie obrazów cyfr z góry i z dołu"
   ],
   "metadata": {
    "collapsed": false,
    "pycharm": {
     "name": "#%% md\n"
    }
   }
  },
  {
   "cell_type": "code",
   "execution_count": 28,
   "outputs": [],
   "source": [
    "for i in range(len(digits)):\n",
    "    d = digits[i]\n",
    "\n",
    "    row = 0\n",
    "    while all(px == 0 for px in d[row]):\n",
    "        row += 1\n",
    "    start_index = row\n",
    "\n",
    "    row = d.shape[0] - 1\n",
    "    while all(px == 0 for px in d[row]):\n",
    "        row -= 1\n",
    "    end_index = row + 1\n",
    "\n",
    "    digits[i] = d[start_index:end_index, 0:d.shape[0]]"
   ],
   "metadata": {
    "collapsed": false,
    "pycharm": {
     "name": "#%%\n"
    }
   }
  },
  {
   "cell_type": "markdown",
   "source": [
    "Upodobnienie obrazów cyfr do obrazów z klasyfikatora mnist (skalowanie oraz dodanie czarnego obramowania)"
   ],
   "metadata": {
    "collapsed": false,
    "pycharm": {
     "name": "#%% md\n"
    }
   }
  },
  {
   "cell_type": "code",
   "execution_count": 29,
   "outputs": [],
   "source": [
    "from cv2 import resize, INTER_AREA, copyMakeBorder, BORDER_CONSTANT, dilate\n",
    "\n",
    "for i in range(len(digits)):\n",
    "    d = digits[i]\n",
    "    d_height, d_width = d.shape\n",
    "\n",
    "    d_proportion = d_width / d_height\n",
    "    sample_size = 28\n",
    "    border_size = 8\n",
    "    max_size = sample_size - border_size\n",
    "\n",
    "    if d_width > d_height:\n",
    "        d = resize(d, (max_size, int(max_size * d_proportion)), interpolation=INTER_AREA)\n",
    "    else:\n",
    "        d = resize(d, (int(max_size * d_proportion), max_size), interpolation=INTER_AREA)\n",
    "\n",
    "    border_vertical = (sample_size - d.shape[0]) / 2\n",
    "    border_verticalT = math.ceil((sample_size - d.shape[0]) / 2)\n",
    "    border_verticalB = math.floor((sample_size - d.shape[0]) / 2)\n",
    "\n",
    "    border_horizontal = (sample_size - d.shape[1]) / 2\n",
    "    border_horizontalL = math.ceil(border_horizontal)\n",
    "    border_horizontalR = math.floor(border_horizontal)\n",
    "\n",
    "    d = copyMakeBorder(d, border_verticalT, border_verticalB, border_horizontalL, border_horizontalR, BORDER_CONSTANT)\n",
    "\n",
    "    kernel = np.ones((2, 2), np.uint8)\n",
    "    d = dilate(d, kernel, iterations=1)\n",
    "\n",
    "    # print(d.shape)\n",
    "    digits[i] = d"
   ],
   "metadata": {
    "collapsed": false,
    "pycharm": {
     "name": "#%%\n"
    }
   }
  },
  {
   "cell_type": "markdown",
   "source": [
    "Uczenie klasyfikatora SVM na zbiorze danych mnist (lub wczytanie go z pliku)"
   ],
   "metadata": {
    "collapsed": false,
    "pycharm": {
     "name": "#%% md\n"
    }
   }
  },
  {
   "cell_type": "code",
   "execution_count": 30,
   "outputs": [],
   "source": [
    "import os\n",
    "import pickle\n",
    "from sklearn.datasets import fetch_openml\n",
    "from sklearn.svm import SVC\n",
    "\n",
    "dataset_pickle_path = \"dataset_mnist.pickle\"\n",
    "clf_pickle_path = \"clf_mnist.pickle\"\n",
    "\n",
    "if not os.path.isfile(dataset_pickle_path):\n",
    "    X, y = data = fetch_openml('mnist_784', version=1, return_X_y=True, as_frame=False)\n",
    "    with open(dataset_pickle_path, 'wb') as f:\n",
    "        pickle.dump(data, f)\n",
    "else:\n",
    "    with open(dataset_pickle_path, 'rb') as f:\n",
    "        X, y = pickle.load(f)\n",
    "\n",
    "# X_train, X_test, y_train, y_test = train_test_split(X, y, test_size=0.33, random_state=42)\n",
    "\n",
    "if not os.path.isfile(clf_pickle_path):\n",
    "    clf = SVC()\n",
    "    clf.fit(X, y)\n",
    "    with open(clf_pickle_path, 'wb') as f:\n",
    "        pickle.dump(clf, f)\n",
    "else:\n",
    "    with open(clf_pickle_path, 'rb') as f:\n",
    "        clf = pickle.load(f)\n",
    "\n",
    "# y_pred = clf.predict(X_test)\n",
    "# print(accuracy_score(y_test, y_pred))"
   ],
   "metadata": {
    "collapsed": false,
    "pycharm": {
     "name": "#%%\n"
    }
   }
  },
  {
   "cell_type": "markdown",
   "source": [
    "Podgląd przetworzonych cyfr oraz cyfr ze zbioru mnist"
   ],
   "metadata": {
    "collapsed": false,
    "pycharm": {
     "name": "#%% md\n"
    }
   }
  },
  {
   "cell_type": "code",
   "execution_count": 31,
   "outputs": [
    {
     "data": {
      "text/plain": "<Figure size 432x288 with 1 Axes>",
      "image/png": "[encoded data removed]"
     },
     "metadata": {
      "needs_background": "light"
     },
     "output_type": "display_data"
    },
    {
     "name": "stdout",
     "output_type": "stream",
     "text": [
      "['5']\n"
     ]
    }
   ],
   "source": [
    "# for d in [bw] + digits:\n",
    "#     plt.imshow(d)\n",
    "#     plt.show()\n",
    "plt.imshow(bw)\n",
    "plt.show()\n",
    "\n",
    "# for i in range(10):\n",
    "#     plt.imshow(X[i].reshape(28,28))\n",
    "#     plt.show()  \n",
    "\n",
    "reshaped = np.array([d.reshape(784) for d in digits])\n",
    "print(clf.predict(reshaped))"
   ],
   "metadata": {
    "collapsed": false,
    "pycharm": {
     "name": "#%%\n"
    }
   }
  }
 ],
 "metadata": {
  "kernelspec": {
   "display_name": "Python 3",
   "language": "python",
   "name": "python3"
  },
  "language_info": {
   "codemirror_mode": {
    "name": "ipython",
    "version": 2
   },
   "file_extension": ".py",
   "mimetype": "text/x-python",
   "name": "python",
   "nbconvert_exporter": "python",
   "pygments_lexer": "ipython2",
   "version": "2.7.6"
  }
 },
 "nbformat": 4,
 "nbformat_minor": 0
}